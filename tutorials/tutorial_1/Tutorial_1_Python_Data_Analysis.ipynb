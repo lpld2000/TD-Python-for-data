{
  "nbformat": 4,
  "nbformat_minor": 0,
  "metadata": {
    "colab": {
      "name": "Tutorial_1_Python_Data_Analysis.ipynb",
      "provenance": [],
      "include_colab_link": true
    },
    "kernelspec": {
      "name": "python3",
      "display_name": "Python 3"
    },
    "language_info": {
      "name": "python"
    }
  },
  "cells": [
    {
      "cell_type": "markdown",
      "metadata": {
        "id": "view-in-github",
        "colab_type": "text"
      },
      "source": [
        "<a href=\"https://colab.research.google.com/github/lpld2000/TD-Python-for-data/blob/main/tutorials/tutorial_1/Tutorial_1_Python_Data_Analysis.ipynb\" target=\"_parent\"><img src=\"https://colab.research.google.com/assets/colab-badge.svg\" alt=\"Open In Colab\"/></a>"
      ]
    },
    {
      "cell_type": "markdown",
      "metadata": {
        "id": "vDFIUnEwTEap"
      },
      "source": [
        "# Tutorial 1 - Python For Data Analysis 🐍 \n",
        "\n",
        "---\n",
        "\n",
        "## Basics of Python 🌱 "
      ]
    },
    {
      "cell_type": "markdown",
      "metadata": {
        "id": "4vZmx4svsEWM"
      },
      "source": [
        "### *Table of Contents*\n",
        "\n",
        "- [Exercise 1](#exercise-1) : List\n",
        "- [Exercise 2](#exercise-2) : Lambda\n",
        "- [Exercise 3](#exercise-3) : Dictionary\n",
        "- [Exercise 4](#exercise-4) : Tuples, Sets\n",
        "- [Exercice 5](#exercise-5) : Dates\n",
        "- [Exercise 6](#exercise-6) : File I/O\n",
        "\n",
        "If you have any questions or remarks about the course or this tutorial, feel free to contact imen.ouled_dlala@devinci.fr or yann.kervella.pro@gmail.com ! 😊"
      ]
    },
    {
      "cell_type": "markdown",
      "metadata": {
        "id": "FLqTjhd4y0Ts"
      },
      "source": [
        "### Requirements"
      ]
    },
    {
      "cell_type": "code",
      "metadata": {
        "id": "690W_WeZyzqk"
      },
      "source": [
        "from datetime import datetime, date, time, timedelta\n",
        "import pytz\n",
        "import re"
      ],
      "execution_count": null,
      "outputs": []
    },
    {
      "cell_type": "markdown",
      "metadata": {
        "id": "JpFs22a7YTve"
      },
      "source": [
        "<a name=\"exercise-1\">\n",
        "\n",
        "### Exercise 1 : List\n",
        "---\n",
        "\n",
        "• Write a program to print a specified list after removing the 0th, 4th and 5th elements. \n",
        "\n",
        "- *Sample List*: ['Red', 'Green', 'White', 'Black', 'Pink', 'Yellow']\n",
        "\n",
        "- *Expected Output*: ['Green', 'White', 'Black']\n",
        "\n",
        "\n"
      ]
    },
    {
      "cell_type": "code",
      "metadata": {
        "id": "tll-PnLLp3Dr",
        "outputId": "fbf9f5ad-a869-4152-f33e-16c94875f58e",
        "colab": {
          "base_uri": "https://localhost:8080/"
        }
      },
      "source": [
        "List=['Red', 'Green', 'White', 'Black', 'Pink', 'Yellow']\n",
        "for i in [5,4,0]:\n",
        "  del List[i]\n",
        "print(List)\n"
      ],
      "execution_count": 4,
      "outputs": [
        {
          "output_type": "stream",
          "name": "stdout",
          "text": [
            "['Green', 'White', 'Black']\n"
          ]
        }
      ]
    },
    {
      "cell_type": "markdown",
      "metadata": {
        "id": "L-kRPYHtpyn6"
      },
      "source": [
        "• Write a program to check whether two lists are circularly identical.\n"
      ]
    },
    {
      "cell_type": "code",
      "metadata": {
        "id": "jN8JwO1Sp3n9"
      },
      "source": [
        ""
      ],
      "execution_count": null,
      "outputs": []
    },
    {
      "cell_type": "markdown",
      "metadata": {
        "id": "labqqrPEp0WZ"
      },
      "source": [
        "• Giving the following list [33, 56, 4, 80, 23, 100, 1, 0, 40, 11], write a program to extract:\n",
        "- the elements from 0 (included) to 7 (excluded)\n",
        "- the last element of the list\n",
        "- the last 3 elements of the list\n",
        "\n",
        "\n"
      ]
    },
    {
      "cell_type": "code",
      "metadata": {
        "id": "KxqdxuKep4B6"
      },
      "source": [
        "def extraction(liste):\n",
        "  liste1=liste[0:7]\n",
        "  liste2=liste[-1:]\n",
        "  list3=liste[-3:]"
      ],
      "execution_count": 5,
      "outputs": []
    },
    {
      "cell_type": "markdown",
      "metadata": {
        "id": "_71yk3m5p2ZL"
      },
      "source": [
        "• Write a program to get a list, sorted in increasing order by the last element in each tuple from a given list of non-empty tuples.\n",
        "\n",
        "- *Sample List* : [(2, 5), (1, 2), (4, 4), (2, 3), (2, 1)] \n",
        "\n",
        "- *Expected Result* : [(2, 1), (1, 2), (2, 3), (4, 4), (2, 5)]"
      ]
    },
    {
      "cell_type": "code",
      "metadata": {
        "id": "Kilm6EzSp4mV"
      },
      "source": [
        "l=[(2, 5), (1, 2), (4, 4), (2, 3), (2, 1)]\n",
        "l=sorted(l,key=lambda t:t[1])"
      ],
      "execution_count": 7,
      "outputs": []
    },
    {
      "cell_type": "markdown",
      "metadata": {
        "id": "EzJfdnlaT0cp"
      },
      "source": [
        "<a name=\"exercise-2\">\n",
        "\n",
        "### Exercise 2\n",
        "---\n",
        "\n",
        "• Write a program to **square and cube** every number in a given list of integers using **Lambda**.\n",
        "\n",
        "- Original list of integers:\n",
        "[1, 2, 3, 4, 5, 6, 7, 8, 9, 10]\n",
        "\n",
        "- Square every number of the said list:\n",
        "[1, 4, 9, 16, 25, 36, 49, 64, 81, 100]\n",
        "\n",
        "- Cube every number of the said list:\n",
        "[1, 8, 27, 64, 125, 216, 343, 512, 729, 1000]"
      ]
    },
    {
      "cell_type": "code",
      "metadata": {
        "id": "1ebs9VAuqGCX",
        "outputId": "dea43fde-b0e4-4e13-ed85-6d69ed9cec65",
        "colab": {
          "base_uri": "https://localhost:8080/"
        }
      },
      "source": [
        "l=[1, 2, 3, 4, 5, 6, 7, 8, 9, 10]\n",
        "square=[]\n",
        "cube=[]\n",
        "for i in l:\n",
        "  square.append(i**2)\n",
        "  cube.append(i**3)\n",
        "print(square)\n",
        "print(cube)\n",
        "\n",
        "def lambda_operation(input):\n",
        "  output=map(lambda x:x**3,input)\n",
        "  print(list(output))\n",
        "\n",
        "lambda_operation(l)"
      ],
      "execution_count": 15,
      "outputs": [
        {
          "output_type": "stream",
          "name": "stdout",
          "text": [
            "[1, 4, 9, 16, 25, 36, 49, 64, 81, 100]\n",
            "[1, 8, 27, 64, 125, 216, 343, 512, 729, 1000]\n",
            "[1, 8, 27, 64, 125, 216, 343, 512, 729, 1000]\n"
          ]
        }
      ]
    },
    {
      "cell_type": "markdown",
      "metadata": {
        "id": "Mb25kK7nTD26"
      },
      "source": [
        "<a name=\"exercise-3\">\n",
        "\n",
        "### Exercise 3 : Dictionary\n",
        "\n",
        "---\n",
        "\n",
        "• Write a script to check whether a given key already exists in a dictionary.\n",
        "\n"
      ]
    },
    {
      "cell_type": "code",
      "metadata": {
        "id": "4a11mMGSjNse"
      },
      "source": [
        "sample_dict = {\"name\": \"Jefferson\", \"birth_date\": \"1999-21-09\", \"gender\": \"Male\"}"
      ],
      "execution_count": 9,
      "outputs": []
    },
    {
      "cell_type": "code",
      "metadata": {
        "id": "z6Lw29geqvse",
        "outputId": "65bf4fdc-e0a5-477f-d09c-a32bf449302a",
        "colab": {
          "base_uri": "https://localhost:8080/"
        }
      },
      "source": [
        "key=input(\" clé : \")\n",
        "if key in sample_dict.keys():\n",
        "  print(\"existe\")\n",
        "else:\n",
        "  print(\"existe pas\")"
      ],
      "execution_count": 11,
      "outputs": [
        {
          "name": "stdout",
          "output_type": "stream",
          "text": [
            " clé : lsdqjk\n"
          ]
        }
      ]
    },
    {
      "cell_type": "markdown",
      "metadata": {
        "id": "bNakccKyqyIE"
      },
      "source": [
        "• Write a program to iterate over dictionaries using for loops.\n"
      ]
    },
    {
      "cell_type": "code",
      "metadata": {
        "id": "Yey6IhTiqaPQ"
      },
      "source": [
        "def iterate(dico):\n",
        "  for elem in dico:\n",
        "    print(f'{elem}:{dico[elem]}')"
      ],
      "execution_count": 28,
      "outputs": []
    },
    {
      "cell_type": "markdown",
      "metadata": {
        "id": "lboerwu5qzhj"
      },
      "source": [
        "• Write a script to generate and print a dictionary that contains a number (between 1 and n) in the form (x, x*x).\n",
        "\n",
        "- Sample Dictionary: (n = 5)\n",
        "- Expected Output: {1: 1, 2: 4, 3: 9, 4: 16, 5: 25}\n"
      ]
    },
    {
      "cell_type": "code",
      "metadata": {
        "id": "WaMO5zivqz1c",
        "outputId": "17520e7d-ea13-4825-eedd-f60b59d53a2e",
        "colab": {
          "base_uri": "https://localhost:8080/"
        }
      },
      "source": [
        "Dico={}\n",
        "n=int(input(\"nbr : \"))\n",
        "for i in range (1,n+1):\n",
        "  Dico[str(i)]=i**2\n",
        "print(Dico)"
      ],
      "execution_count": 19,
      "outputs": [
        {
          "output_type": "stream",
          "name": "stdout",
          "text": [
            "nbr : 5\n",
            "{'1': 1, '2': 4, '3': 9, '4': 16, '5': 25}\n"
          ]
        }
      ]
    },
    {
      "cell_type": "markdown",
      "metadata": {
        "id": "LUlJTVINq34S"
      },
      "source": [
        "• Write a program to map two lists into a dictionary."
      ]
    },
    {
      "cell_type": "code",
      "metadata": {
        "id": "sSIY9O9wjUK9"
      },
      "source": [
        "list1 = [\"name\", \"birth_date\", \"gender\"]\n",
        "list2 = [\"Jessica\", \"1999-04-05\", \"Female\"]"
      ],
      "execution_count": 20,
      "outputs": []
    },
    {
      "cell_type": "code",
      "metadata": {
        "id": "YfuVeqCgq4jF",
        "outputId": "6002e6c5-63c2-4e57-a978-721a0eb3ea51",
        "colab": {
          "base_uri": "https://localhost:8080/"
        }
      },
      "source": [
        "list3=zip(list1,list2)\n",
        "dico=dict(list3)\n",
        "print(dico)"
      ],
      "execution_count": 21,
      "outputs": [
        {
          "output_type": "stream",
          "name": "stdout",
          "text": [
            "{'name': 'Jessica', 'birth_date': '1999-04-05', 'gender': 'Female'}\n"
          ]
        }
      ]
    },
    {
      "cell_type": "markdown",
      "metadata": {
        "id": "RfTIualkqLuO"
      },
      "source": [
        "<a name=\"exercise-4\">\n",
        "\n",
        "### Exercise 4 : Tuples & Sets\n",
        "\n",
        "---\n",
        "• Write a program to compute element-wise sum of given tuples. \n",
        "- Original lists:\n",
        "(1, 2, 3, 4) (3, 5, 2, 1) (2, 2, 3, 1)\n",
        "- Element-wise sum of the said tuples:\n",
        "(6, 9, 8, 6)"
      ]
    },
    {
      "cell_type": "code",
      "metadata": {
        "id": "HX51VZZTqai7",
        "outputId": "05c91c89-4b55-4494-a383-b532888682e2",
        "colab": {
          "base_uri": "https://localhost:8080/"
        }
      },
      "source": [
        "tuple1=(1, 2, 3, 4)\n",
        "tuple2=(3, 5, 2, 1)\n",
        "tuple3=(2, 2, 3, 1)\n",
        "finalT=tuple(map(lambda x,y,z:x+y+z, tuple1,tuple2,tuple3))\n",
        "\n",
        "print (finalT)\n"
      ],
      "execution_count": 27,
      "outputs": [
        {
          "output_type": "stream",
          "name": "stdout",
          "text": [
            "(6, 9, 8, 6)\n"
          ]
        }
      ]
    },
    {
      "cell_type": "markdown",
      "metadata": {
        "id": "c8JK4pWBrDXY"
      },
      "source": [
        "• Write a Python program to convert a tuple to a dictionary"
      ]
    },
    {
      "cell_type": "code",
      "metadata": {
        "id": "-bmqgodFrENX",
        "outputId": "f6f044ee-843e-4f33-c7b1-42d9ab95d4df",
        "colab": {
          "base_uri": "https://localhost:8080/"
        }
      },
      "source": [
        "tuplex=((2,\"w\"),(3,\"r\"))\n",
        "print(dict((x,y) for x,y in tuplex))"
      ],
      "execution_count": 30,
      "outputs": [
        {
          "output_type": "stream",
          "name": "stdout",
          "text": [
            "{2: 'w', 3: 'r'}\n"
          ]
        }
      ]
    },
    {
      "cell_type": "markdown",
      "metadata": {
        "id": "pLvO5ho7qMIq"
      },
      "source": [
        "<a name=\"exercise-5\">\n",
        "\n",
        "### Exercise 5 : Dates\n",
        "\n",
        "---\n",
        "• Write a Python program to get the current time. \n",
        "- Sample Format: 13:19:49.078205"
      ]
    },
    {
      "cell_type": "code",
      "metadata": {
        "id": "Kpi8L46Aqa2n",
        "outputId": "ef891d92-a62c-486f-ebb6-9c89575febb7",
        "colab": {
          "base_uri": "https://localhost:8080/"
        }
      },
      "source": [
        "\n",
        "\n"
      ],
      "execution_count": 29,
      "outputs": [
        {
          "output_type": "stream",
          "name": "stdout",
          "text": [
            "1632924736.7537255\n"
          ]
        }
      ]
    },
    {
      "cell_type": "markdown",
      "metadata": {
        "id": "9jSxS7yGrJdy"
      },
      "source": [
        "• Write a Python program to subtract five days from current date. \n",
        "- Sample Date:\n",
        "- Current Date: 2015-06-22\n",
        "- 5 days before Current Date : 2015-06-1"
      ]
    },
    {
      "cell_type": "code",
      "metadata": {
        "id": "xmGmeZzGrJxT",
        "outputId": "d088aa0a-5ca4-446e-e287-b45c5d703e5a",
        "colab": {
          "base_uri": "https://localhost:8080/",
          "height": 200
        }
      },
      "source": [
        "import datetime\n",
        "date=datetime.now(tz=timezone)\n",
        "print(f'5 days before current date: {date-timedelta(5)}')"
      ],
      "execution_count": 33,
      "outputs": [
        {
          "output_type": "error",
          "ename": "AttributeError",
          "evalue": "ignored",
          "traceback": [
            "\u001b[0;31m---------------------------------------------------------------------------\u001b[0m",
            "\u001b[0;31mAttributeError\u001b[0m                            Traceback (most recent call last)",
            "\u001b[0;32m<ipython-input-33-1872ec72fe3f>\u001b[0m in \u001b[0;36m<module>\u001b[0;34m()\u001b[0m\n\u001b[1;32m      1\u001b[0m \u001b[0;32mimport\u001b[0m \u001b[0mdatetime\u001b[0m\u001b[0;34m\u001b[0m\u001b[0;34m\u001b[0m\u001b[0m\n\u001b[0;32m----> 2\u001b[0;31m \u001b[0mdate\u001b[0m\u001b[0;34m=\u001b[0m\u001b[0mdatetime\u001b[0m\u001b[0;34m.\u001b[0m\u001b[0mnow\u001b[0m\u001b[0;34m(\u001b[0m\u001b[0mtz\u001b[0m\u001b[0;34m=\u001b[0m\u001b[0mtimezone\u001b[0m\u001b[0;34m)\u001b[0m\u001b[0;34m\u001b[0m\u001b[0;34m\u001b[0m\u001b[0m\n\u001b[0m\u001b[1;32m      3\u001b[0m \u001b[0mprint\u001b[0m\u001b[0;34m(\u001b[0m\u001b[0;34mf'5 days before current date: {date-timedelta(5)}'\u001b[0m\u001b[0;34m)\u001b[0m\u001b[0;34m\u001b[0m\u001b[0;34m\u001b[0m\u001b[0m\n",
            "\u001b[0;31mAttributeError\u001b[0m: module 'datetime' has no attribute 'now'"
          ]
        }
      ]
    },
    {
      "cell_type": "markdown",
      "metadata": {
        "id": "jf5pU_5frJ9k"
      },
      "source": [
        "• Write a Python program to print yesterday, today, tomorrow"
      ]
    },
    {
      "cell_type": "code",
      "metadata": {
        "id": "pnfsJE_DrLN7"
      },
      "source": [
        ""
      ],
      "execution_count": null,
      "outputs": []
    },
    {
      "cell_type": "markdown",
      "metadata": {
        "id": "9PDdb6vqrLcJ"
      },
      "source": [
        "• Write a Python program to get week number.\n",
        "- Sample Date : 2015, 6, 16 \n",
        "- Expected Output : 25"
      ]
    },
    {
      "cell_type": "code",
      "metadata": {
        "id": "jwEi-R9jrL1y"
      },
      "source": [
        ""
      ],
      "execution_count": null,
      "outputs": []
    },
    {
      "cell_type": "markdown",
      "metadata": {
        "id": "Ax4N_WSLrdA7"
      },
      "source": [
        "• Write a Python program to calculate a number of days between two dates"
      ]
    },
    {
      "cell_type": "code",
      "metadata": {
        "id": "AeMcc8ePrd95"
      },
      "source": [
        ""
      ],
      "execution_count": null,
      "outputs": []
    },
    {
      "cell_type": "markdown",
      "metadata": {
        "id": "CyHCE-dZqMb-"
      },
      "source": [
        "<a name=\"exercise-6\">\n",
        "\n",
        "### Exercise 6 : File I/O\n",
        "\n",
        "---\n",
        "• Write a Python program to count the number of lines in a text file"
      ]
    },
    {
      "cell_type": "code",
      "metadata": {
        "id": "t98dO2T0qbHK",
        "outputId": "0488fcb6-1b5d-4868-9f40-c4a5b6ca9f79",
        "colab": {
          "base_uri": "https://localhost:8080/",
          "height": 182
        }
      },
      "source": [
        "f=open('data.txt','r')\n",
        "nbrLigne=len(f.readlines())"
      ],
      "execution_count": 35,
      "outputs": [
        {
          "output_type": "error",
          "ename": "FileNotFoundError",
          "evalue": "ignored",
          "traceback": [
            "\u001b[0;31m---------------------------------------------------------------------------\u001b[0m",
            "\u001b[0;31mFileNotFoundError\u001b[0m                         Traceback (most recent call last)",
            "\u001b[0;32m<ipython-input-35-634606585ea4>\u001b[0m in \u001b[0;36m<module>\u001b[0;34m()\u001b[0m\n\u001b[0;32m----> 1\u001b[0;31m \u001b[0mf\u001b[0m\u001b[0;34m=\u001b[0m\u001b[0mopen\u001b[0m\u001b[0;34m(\u001b[0m\u001b[0;34m'data.txt'\u001b[0m\u001b[0;34m,\u001b[0m\u001b[0;34m'r'\u001b[0m\u001b[0;34m)\u001b[0m\u001b[0;34m\u001b[0m\u001b[0;34m\u001b[0m\u001b[0m\n\u001b[0m\u001b[1;32m      2\u001b[0m \u001b[0mnbrLigne\u001b[0m\u001b[0;34m=\u001b[0m\u001b[0mlen\u001b[0m\u001b[0;34m(\u001b[0m\u001b[0mf\u001b[0m\u001b[0;34m.\u001b[0m\u001b[0mreadlines\u001b[0m\u001b[0;34m(\u001b[0m\u001b[0;34m)\u001b[0m\u001b[0;34m)\u001b[0m\u001b[0;34m\u001b[0m\u001b[0;34m\u001b[0m\u001b[0m\n",
            "\u001b[0;31mFileNotFoundError\u001b[0m: [Errno 2] No such file or directory: 'data.txt'"
          ]
        }
      ]
    },
    {
      "cell_type": "markdown",
      "metadata": {
        "id": "n19_Rg0sqf6H"
      },
      "source": [
        "• Write a Python program to assess if a file is closed or not\n"
      ]
    },
    {
      "cell_type": "code",
      "metadata": {
        "id": "6VKrc_1NqhKY"
      },
      "source": [
        "f = open('file.py')\n",
        "if f.closed:\n",
        "  print 'file is closed'"
      ],
      "execution_count": null,
      "outputs": []
    },
    {
      "cell_type": "markdown",
      "metadata": {
        "id": "WxgHAFb4qhnC"
      },
      "source": [
        "• Write a Python program to append text to a file and display the text\n"
      ]
    },
    {
      "cell_type": "code",
      "metadata": {
        "id": "OR-DpP9BqivV"
      },
      "source": [
        ""
      ],
      "execution_count": null,
      "outputs": []
    },
    {
      "cell_type": "markdown",
      "metadata": {
        "id": "ZEt-WWckqjSN"
      },
      "source": [
        "• Write a Python program to count the frequency of words in a file."
      ]
    },
    {
      "cell_type": "code",
      "metadata": {
        "id": "fWXNHF6LqkId"
      },
      "source": [
        "f=open('data.txt','r')\n",
        "nbrLigne=len(f.readlines())\n",
        "cpt=0\n",
        "mot=frequence\n",
        "for i in f.readlines():\n",
        "  for j in f.readlines()[i]:\n",
        "    if j==mot:\n",
        "      cpt++\n",
        "print(cpt)\n"
      ],
      "execution_count": null,
      "outputs": []
    },
    {
      "cell_type": "markdown",
      "metadata": {
        "id": "GhMKdGQwi9gA"
      },
      "source": [
        "## Good job, you finished the first tutorial ! 😎"
      ]
    }
  ]
}